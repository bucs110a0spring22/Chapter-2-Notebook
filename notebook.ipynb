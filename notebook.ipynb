{
 "cells": [
  {
   "cell_type": "markdown",
   "metadata": {},
   "source": [
    "# Introduction to Programming in Python\n",
    "## Chapter 2\n",
    "### Python Modules\n"
   ]
  },
  {
   "cell_type": "code",
   "execution_count": null,
   "metadata": {},
   "outputs": [
    {
     "ename": "",
     "evalue": "",
     "output_type": "error",
     "traceback": [
      "\u001b[1;31mFailed to start Jupyter in the environment 'Python 3.8.9 64-bit (/usr/bin/python3)'. \n",
      "View Jupyter <a href='command:jupyter.viewOutput'>log</a> for further details."
     ]
    }
   ],
   "source": [
    "# Program to generate a random number between 0 and 9\n",
    "\n",
    "# importing the random module\n",
    "import random\n",
    "\n",
    "guess = input(\"Please guess a number?\")\n",
    "the_answer = random.randint(0,9)\n",
    "print(\"Your guess:\", guess, \"The answer:\", the_answer)"
   ]
  },
  {
   "cell_type": "markdown",
   "metadata": {},
   "source": [
    "#### Exercise\n",
    "\n",
    "My Turtle"
   ]
  },
  {
   "cell_type": "markdown",
   "metadata": {},
   "source": [
    "##### Vending Machine\n",
    "\n",
    "* Prebuilt (optimized) components\n",
    "\n",
    "\n",
    "***Modules***\n",
    "Prebuilt programming components\n",
    "\n",
    "in python:\n",
    "module == file (that contains python code)\n",
    "\n",
    "package == folder containing python code"
   ]
  },
  {
   "cell_type": "markdown",
   "metadata": {},
   "source": [
    "#### Turtle\n",
    "\n",
    "* a drawing library\n",
    "    * simulates pen on paper\n",
    "    * you can make the pen look like a turtle\n",
    "* It is a learning library\n",
    "* Standard coordinate system (origin is at the center, 4 quadrants)\n",
    "    * non-standard coordinate system for GUIs"
   ]
  },
  {
   "cell_type": "code",
   "execution_count": null,
   "metadata": {},
   "outputs": [],
   "source": [
    "#all imports go at the top of the file\n",
    "import turtle #never name your file the same name as a module\n",
    "from turtle import Turtle #removing the namespace\n",
    "x = 1\n",
    "\n",
    "#namespacing \n",
    "#variables\n",
    "x = 1\n",
    "print(x)\n",
    "#commands (functions/algorithms)\n",
    "foo()\n",
    "bar()\n",
    "\n",
    "#primitive objects\n",
    "int\n",
    "float\n",
    "str\n",
    "list\n",
    "\n",
    "#import turtle\n",
    "my_turtle = turtle.Turtle() #complex object are made of primitive objects\n",
    "\n",
    "#from turtle import Turtle\n",
    "my_turtle = Turtle()\n",
    "\n",
    "\n"
   ]
  },
  {
   "cell_type": "markdown",
   "metadata": {},
   "source": [
    "## Two Primary Principles of Programming\n",
    "\n",
    "1. DRY: Don't Repeat Yourself\n",
    "2. Write for Re-use: Don't reinvent the wheel\n",
    "\n",
    "\n"
   ]
  },
  {
   "cell_type": "code",
   "execution_count": null,
   "metadata": {},
   "outputs": [],
   "source": [
    "import turtle\n",
    "\n",
    "my_turtle = turtle.Turtle() #Factories\n",
    "\n",
    "my_turtle.forward(10)\n",
    "my_turtle.color(\"green\")\n",
    "my_turtle.shape(\"turtle\")\n",
    "my_turtle.left(90)\n",
    "my_turtle.forward(20)\n",
    "my_turtle.up()\n",
    "my_turtle.forward(20)\n",
    "my_turtle.down()\n",
    "my_turtle.color(\"blue\")\n",
    "my_turtle.forward(20)"
   ]
  },
  {
   "cell_type": "markdown",
   "metadata": {},
   "source": [
    "### object commands\n",
    "\n",
    "object.command(<args>)"
   ]
  },
  {
   "cell_type": "markdown",
   "metadata": {},
   "source": [
    "## Screen\n",
    "\n",
    "The window that is being display "
   ]
  },
  {
   "cell_type": "markdown",
   "metadata": {},
   "source": [
    "** Why turtle.Turtle ? **\n",
    "\n",
    "import turtle\n",
    "1. go into the python folder on my computer\n",
    "2. Look for a file called 'turtle.py'\n",
    "3. Copy all of the code in that file into my program\n",
    "\n",
    "To make sure there are no variable **name collision**\n",
    "\n",
    "my_turtle = turtle.Turtle()\n",
    "\n",
    "```turtle.py example\n",
    "#this is a sample of the turtle file in the python library\n",
    "\n",
    "Turtle():\n",
    "    sub commands\n",
    "    hands back the turtle object\n",
    "\n",
    "```"
   ]
  }
 ],
 "metadata": {
  "interpreter": {
   "hash": "d396f3607e8b3e6bfc2fdae356169562b28e273c2fda1d30f25e33089c9c8fcf"
  },
  "kernelspec": {
   "display_name": "Python 3.9.9 64-bit ('3.9.9': pyenv)",
   "language": "python",
   "name": "python3"
  },
  "language_info": {
   "codemirror_mode": {
    "name": "ipython",
    "version": 3
   },
   "file_extension": ".py",
   "mimetype": "text/x-python",
   "name": "python",
   "nbconvert_exporter": "python",
   "pygments_lexer": "ipython3",
   "version": "3.8.9"
  },
  "orig_nbformat": 4
 },
 "nbformat": 4,
 "nbformat_minor": 2
}
